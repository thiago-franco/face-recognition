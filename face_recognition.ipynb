{
 "cells": [
  {
   "cell_type": "code",
   "execution_count": 1,
   "metadata": {},
   "outputs": [],
   "source": [
    "from functions import *\n",
    "% matplotlib inline"
   ]
  },
  {
   "cell_type": "markdown",
   "metadata": {
    "collapsed": true
   },
   "source": [
    "# Evaluating Face Recognition Algorithms"
   ]
  },
  {
   "cell_type": "markdown",
   "metadata": {},
   "source": [
    "Here we experiment with different algorithms to solve the problem of face recognition. \n",
    "\n",
    "Our dataset is split into increasing complexity levels and we run the algorithms for each one of them.\n",
    "\n",
    "Most importantly, we compare the results of whether or not using Principal Component Analysis (PCA) to reduce the image dimensionality. \n"
   ]
  },
  {
   "cell_type": "markdown",
   "metadata": {},
   "source": [
    "## Direct Image Similarity"
   ]
  },
  {
   "cell_type": "code",
   "execution_count": 2,
   "metadata": {},
   "outputs": [],
   "source": [
    "classifier = SimilarityClassifier()"
   ]
  },
  {
   "cell_type": "markdown",
   "metadata": {},
   "source": [
    "### very-easy"
   ]
  },
  {
   "cell_type": "code",
   "execution_count": 3,
   "metadata": {},
   "outputs": [
    {
     "name": "stdout",
     "output_type": "stream",
     "text": [
      "##################################################\n",
      "On dataset: ./datasets/very-easy\n",
      "using PCA: NO\n",
      "classifier: SimilarityClassifier\n",
      "10 fold cross-validation results:\n",
      "  Average Score: 0.06666666666666667\n",
      "  Average Time : 0.016467571258544922\n",
      "\n",
      "##################################################\n",
      "On dataset: ./datasets/very-easy\n",
      "using PCA: YES\n",
      "classifier: SimilarityClassifier\n",
      "10 fold cross-validation results:\n",
      "  Average Score: 0.8666666666666666\n",
      "  Average Time : 0.0014570236206054687\n",
      "\n"
     ]
    }
   ],
   "source": [
    "dataset = './datasets/very-easy'\n",
    "evaluate_recognition(dataset, classifier, use_pca=False)\n",
    "evaluate_recognition(dataset, classifier, use_pca=True)"
   ]
  },
  {
   "cell_type": "markdown",
   "metadata": {},
   "source": [
    "### easy"
   ]
  },
  {
   "cell_type": "code",
   "execution_count": 4,
   "metadata": {},
   "outputs": [
    {
     "name": "stdout",
     "output_type": "stream",
     "text": [
      "##################################################\n",
      "On dataset: ./datasets/easy\n",
      "using PCA: NO\n",
      "classifier: SimilarityClassifier\n",
      "10 fold cross-validation results:\n",
      "  Average Score: 0.5666666666666667\n",
      "  Average Time : 0.04637429714202881\n",
      "\n",
      "##################################################\n",
      "On dataset: ./datasets/easy\n",
      "using PCA: YES\n",
      "classifier: SimilarityClassifier\n",
      "10 fold cross-validation results:\n",
      "  Average Score: 0.775\n",
      "  Average Time : 0.008603525161743165\n",
      "\n"
     ]
    }
   ],
   "source": [
    "dataset = './datasets/easy'\n",
    "evaluate_recognition(dataset, classifier, use_pca=False)\n",
    "evaluate_recognition(dataset, classifier, use_pca=True)"
   ]
  },
  {
   "cell_type": "markdown",
   "metadata": {},
   "source": [
    "### medium"
   ]
  },
  {
   "cell_type": "code",
   "execution_count": 5,
   "metadata": {},
   "outputs": [
    {
     "name": "stdout",
     "output_type": "stream",
     "text": [
      "##################################################\n",
      "On dataset: ./datasets/medium\n",
      "using PCA: NO\n",
      "classifier: SimilarityClassifier\n",
      "10 fold cross-validation results:\n",
      "  Average Score: 0.23714285714285716\n",
      "  Average Time : 4.0373893737792965\n",
      "\n",
      "##################################################\n",
      "On dataset: ./datasets/medium\n",
      "using PCA: YES\n",
      "classifier: SimilarityClassifier\n",
      "10 fold cross-validation results:\n",
      "  Average Score: 0.8114285714285714\n",
      "  Average Time : 0.5765345811843872\n",
      "\n"
     ]
    }
   ],
   "source": [
    "dataset = './datasets/medium'\n",
    "evaluate_recognition(dataset, classifier, use_pca=False)\n",
    "evaluate_recognition(dataset, classifier, use_pca=True)"
   ]
  },
  {
   "cell_type": "markdown",
   "metadata": {},
   "source": [
    "### hard"
   ]
  },
  {
   "cell_type": "code",
   "execution_count": 6,
   "metadata": {},
   "outputs": [
    {
     "name": "stdout",
     "output_type": "stream",
     "text": [
      "##################################################\n",
      "On dataset: ./datasets/hard\n",
      "using PCA: NO\n",
      "classifier: SimilarityClassifier\n",
      "10 fold cross-validation results:\n",
      "  Average Score: 0.22285714285714286\n",
      "  Average Time : 16.40150375366211\n",
      "\n",
      "##################################################\n",
      "On dataset: ./datasets/hard\n",
      "using PCA: YES\n",
      "classifier: SimilarityClassifier\n",
      "10 fold cross-validation results:\n",
      "  Average Score: 0.8704761904761906\n",
      "  Average Time : 2.2402484893798826\n",
      "\n"
     ]
    }
   ],
   "source": [
    "dataset = './datasets/hard'\n",
    "evaluate_recognition(dataset, classifier, use_pca=False)\n",
    "evaluate_recognition(dataset, classifier, use_pca=True)"
   ]
  },
  {
   "cell_type": "markdown",
   "metadata": {},
   "source": [
    "### extras"
   ]
  },
  {
   "cell_type": "code",
   "execution_count": 7,
   "metadata": {},
   "outputs": [
    {
     "name": "stdout",
     "output_type": "stream",
     "text": [
      "##################################################\n",
      "On dataset: ./datasets/extras/facebookfaces/crop-inner\n",
      "using PCA: NO\n",
      "classifier: SimilarityClassifier\n",
      "10 fold cross-validation results:\n",
      "  Average Score: 0.2928571428571428\n",
      "  Average Time : 0.08897864818572998\n",
      "\n",
      "##################################################\n",
      "On dataset: ./datasets/extras/facebookfaces/crop-inner\n",
      "using PCA: YES\n",
      "classifier: SimilarityClassifier\n",
      "10 fold cross-validation results:\n",
      "  Average Score: 0.6428571428571428\n",
      "  Average Time : 0.010603976249694825\n",
      "\n",
      "##################################################\n",
      "On dataset: ./datasets/extras/facebookfaces/crop-outer\n",
      "using PCA: NO\n",
      "classifier: SimilarityClassifier\n",
      "10 fold cross-validation results:\n",
      "  Average Score: 0.1714285714285714\n",
      "  Average Time : 0.06446173191070556\n",
      "\n",
      "##################################################\n",
      "On dataset: ./datasets/extras/facebookfaces/crop-outer\n",
      "using PCA: YES\n",
      "classifier: SimilarityClassifier\n",
      "10 fold cross-validation results:\n",
      "  Average Score: 0.5571428571428572\n",
      "  Average Time : 0.00998067855834961\n",
      "\n",
      "##################################################\n",
      "On dataset: ./datasets/extras/facebookfaces-2/crop-inner\n",
      "using PCA: NO\n",
      "classifier: SimilarityClassifier\n",
      "10 fold cross-validation results:\n",
      "  Average Score: 0.44000000000000006\n",
      "  Average Time : 0.08457581996917725\n",
      "\n",
      "##################################################\n",
      "On dataset: ./datasets/extras/facebookfaces-2/crop-inner\n",
      "using PCA: YES\n",
      "classifier: SimilarityClassifier\n",
      "10 fold cross-validation results:\n",
      "  Average Score: 0.5000000000000001\n",
      "  Average Time : 0.01181328296661377\n",
      "\n",
      "##################################################\n",
      "On dataset: ./datasets/extras/facebookfaces-2/crop-outer\n",
      "using PCA: NO\n",
      "classifier: SimilarityClassifier\n",
      "10 fold cross-validation results:\n",
      "  Average Score: 0.20666666666666664\n",
      "  Average Time : 0.07417356967926025\n",
      "\n",
      "##################################################\n",
      "On dataset: ./datasets/extras/facebookfaces-2/crop-outer\n",
      "using PCA: YES\n",
      "classifier: SimilarityClassifier\n",
      "10 fold cross-validation results:\n",
      "  Average Score: 0.5\n",
      "  Average Time : 0.012294507026672364\n",
      "\n"
     ]
    }
   ],
   "source": [
    "dataset = './datasets/extras/facebookfaces/crop-inner'\n",
    "evaluate_recognition(dataset, classifier, use_pca=False)\n",
    "evaluate_recognition(dataset, classifier, use_pca=True)\n",
    "\n",
    "dataset = './datasets/extras/facebookfaces/crop-outer'\n",
    "evaluate_recognition(dataset, classifier, use_pca=False)\n",
    "evaluate_recognition(dataset, classifier, use_pca=True)\n",
    "\n",
    "dataset = './datasets/extras/facebookfaces-2/crop-inner'\n",
    "evaluate_recognition(dataset, classifier, use_pca=False)\n",
    "evaluate_recognition(dataset, classifier, use_pca=True)\n",
    "\n",
    "dataset = './datasets/extras/facebookfaces-2/crop-outer'\n",
    "evaluate_recognition(dataset, classifier, use_pca=False)\n",
    "evaluate_recognition(dataset, classifier, use_pca=True)"
   ]
  },
  {
   "cell_type": "markdown",
   "metadata": {},
   "source": [
    "## Logistic Regression"
   ]
  },
  {
   "cell_type": "code",
   "execution_count": 4,
   "metadata": {
    "collapsed": true
   },
   "outputs": [],
   "source": [
    "classifier = LogisticRegression()"
   ]
  },
  {
   "cell_type": "markdown",
   "metadata": {},
   "source": [
    "### very-easy"
   ]
  },
  {
   "cell_type": "code",
   "execution_count": 8,
   "metadata": {},
   "outputs": [
    {
     "name": "stdout",
     "output_type": "stream",
     "text": [
      "##################################################\n",
      "On dataset: ./datasets/very-easy\n",
      "using PCA: NO\n",
      "classifier: LogisticRegression\n",
      "10 fold cross-validation results:\n",
      "  Average Score: 0.8\n",
      "  Average Time : 0.3082653284072876\n",
      "\n",
      "##################################################\n",
      "On dataset: ./datasets/very-easy\n",
      "using PCA: YES\n",
      "classifier: LogisticRegression\n",
      "10 fold cross-validation results:\n",
      "  Average Score: 1.0\n",
      "  Average Time : 0.0016953229904174804\n",
      "\n"
     ]
    }
   ],
   "source": [
    "dataset = './datasets/very-easy'\n",
    "evaluate_recognition(dataset, classifier, use_pca=False)\n",
    "evaluate_recognition(dataset, classifier, use_pca=True)"
   ]
  },
  {
   "cell_type": "markdown",
   "metadata": {},
   "source": [
    "### easy"
   ]
  },
  {
   "cell_type": "code",
   "execution_count": 9,
   "metadata": {},
   "outputs": [
    {
     "name": "stdout",
     "output_type": "stream",
     "text": [
      "##################################################\n",
      "On dataset: ./datasets/easy\n",
      "using PCA: NO\n",
      "classifier: LogisticRegression\n",
      "10 fold cross-validation results:\n",
      "  Average Score: 1.0\n",
      "  Average Time : 0.9978229522705078\n",
      "\n",
      "##################################################\n",
      "On dataset: ./datasets/easy\n",
      "using PCA: YES\n",
      "classifier: LogisticRegression\n",
      "10 fold cross-validation results:\n",
      "  Average Score: 1.0\n",
      "  Average Time : 0.003708553314208984\n",
      "\n"
     ]
    }
   ],
   "source": [
    "dataset = './datasets/easy'\n",
    "evaluate_recognition(dataset, classifier, use_pca=False)\n",
    "evaluate_recognition(dataset, classifier, use_pca=True)"
   ]
  },
  {
   "cell_type": "markdown",
   "metadata": {},
   "source": [
    "### medium"
   ]
  },
  {
   "cell_type": "code",
   "execution_count": null,
   "metadata": {},
   "outputs": [
    {
     "name": "stdout",
     "output_type": "stream",
     "text": [
      "##################################################\n",
      "On dataset: ./datasets/medium\n",
      "using PCA: NO\n",
      "classifier: LogisticRegression\n",
      "10 fold cross-validation results:\n",
      "  Average Score: 0.841904761905\n",
      "  Average Time : 107.23419196605683\n",
      "\n",
      "##################################################\n",
      "On dataset: ./datasets/medium\n",
      "using PCA: YES\n",
      "classifier: LogisticRegression\n",
      "10 fold cross-validation results:\n",
      "  Average Score: 0.932380952381\n",
      "  Average Time : 6.859637594223022\n",
      "\n"
     ]
    }
   ],
   "source": [
    "dataset = './datasets/medium'\n",
    "evaluate_recognition(dataset, classifier, use_pca=False)\n",
    "evaluate_recognition(dataset, classifier, use_pca=True)"
   ]
  },
  {
   "cell_type": "markdown",
   "metadata": {},
   "source": [
    "### hard"
   ]
  },
  {
   "cell_type": "code",
   "execution_count": 8,
   "metadata": {},
   "outputs": [
    {
     "name": "stdout",
     "output_type": "stream",
     "text": [
      "##################################################\n",
      "On dataset: ./datasets/hard\n",
      "using PCA: YES\n",
      "classifier: LogisticRegression\n",
      "10 fold cross-validation results:\n",
      "  Average Score: 0.911428571429\n",
      "  Average Time : 40.29245295524597\n",
      "\n"
     ]
    }
   ],
   "source": [
    "dataset = './datasets/hard'\n",
    "#evaluate_recognition(dataset, classifier, use_pca=False)\n",
    "evaluate_recognition(dataset, classifier, use_pca=True)"
   ]
  },
  {
   "cell_type": "markdown",
   "metadata": {},
   "source": [
    "For the hard dataset, not using PCA results in extremely long runtime."
   ]
  },
  {
   "cell_type": "markdown",
   "metadata": {},
   "source": [
    "### extras"
   ]
  },
  {
   "cell_type": "code",
   "execution_count": 11,
   "metadata": {},
   "outputs": [
    {
     "name": "stdout",
     "output_type": "stream",
     "text": [
      "##################################################\n",
      "On dataset: ./datasets/extras/facebookfaces/crop-inner\n",
      "using PCA: NO\n",
      "classifier: LogisticRegression\n",
      "10 fold cross-validation results:\n",
      "  Average Score: 0.735714285714\n",
      "  Average Time : 1.2831989765167235\n",
      "\n",
      "##################################################\n",
      "On dataset: ./datasets/extras/facebookfaces/crop-inner\n",
      "using PCA: YES\n",
      "classifier: LogisticRegression\n",
      "10 fold cross-validation results:\n",
      "  Average Score: 0.814285714286\n",
      "  Average Time : 0.0046713829040527345\n",
      "\n",
      "##################################################\n",
      "On dataset: ./datasets/extras/facebookfaces/crop-outer\n",
      "using PCA: NO\n",
      "classifier: LogisticRegression\n",
      "10 fold cross-validation results:\n",
      "  Average Score: 0.778571428571\n",
      "  Average Time : 1.1596403121948242\n",
      "\n",
      "##################################################\n",
      "On dataset: ./datasets/extras/facebookfaces/crop-outer\n",
      "using PCA: YES\n",
      "classifier: LogisticRegression\n",
      "10 fold cross-validation results:\n",
      "  Average Score: 0.721428571429\n",
      "  Average Time : 0.004698657989501953\n",
      "\n",
      "##################################################\n",
      "On dataset: ./datasets/extras/facebookfaces-2/crop-inner\n",
      "using PCA: NO\n",
      "classifier: LogisticRegression\n",
      "10 fold cross-validation results:\n",
      "  Average Score: 0.933333333333\n",
      "  Average Time : 1.4319749116897582\n",
      "\n",
      "##################################################\n",
      "On dataset: ./datasets/extras/facebookfaces-2/crop-inner\n",
      "using PCA: YES\n",
      "classifier: LogisticRegression\n",
      "10 fold cross-validation results:\n",
      "  Average Score: 0.94\n",
      "  Average Time : 0.006416964530944824\n",
      "\n",
      "##################################################\n",
      "On dataset: ./datasets/extras/facebookfaces-2/crop-outer\n",
      "using PCA: NO\n",
      "classifier: LogisticRegression\n",
      "10 fold cross-validation results:\n",
      "  Average Score: 0.6\n",
      "  Average Time : 1.426311469078064\n",
      "\n",
      "##################################################\n",
      "On dataset: ./datasets/extras/facebookfaces-2/crop-outer\n",
      "using PCA: YES\n",
      "classifier: LogisticRegression\n",
      "10 fold cross-validation results:\n",
      "  Average Score: 0.686666666667\n",
      "  Average Time : 0.005789542198181152\n",
      "\n"
     ]
    }
   ],
   "source": [
    "dataset = './datasets/extras/facebookfaces/crop-inner'\n",
    "evaluate_recognition(dataset, classifier, use_pca=False)\n",
    "evaluate_recognition(dataset, classifier, use_pca=True)\n",
    "\n",
    "dataset = './datasets/extras/facebookfaces/crop-outer'\n",
    "evaluate_recognition(dataset, classifier, use_pca=False)\n",
    "evaluate_recognition(dataset, classifier, use_pca=True)\n",
    "\n",
    "dataset = './datasets/extras/facebookfaces-2/crop-inner'\n",
    "evaluate_recognition(dataset, classifier, use_pca=False)\n",
    "evaluate_recognition(dataset, classifier, use_pca=True)\n",
    "\n",
    "dataset = './datasets/extras/facebookfaces-2/crop-outer'\n",
    "evaluate_recognition(dataset, classifier, use_pca=False)\n",
    "evaluate_recognition(dataset, classifier, use_pca=True)"
   ]
  },
  {
   "cell_type": "markdown",
   "metadata": {},
   "source": [
    "# Playground"
   ]
  },
  {
   "cell_type": "code",
   "execution_count": 15,
   "metadata": {},
   "outputs": [
    {
     "name": "stdout",
     "output_type": "stream",
     "text": [
      "Recognition rate: 0.9333333333333333\n",
      "Confusion Matrix:\n",
      "[[1 0 0 0 0]\n",
      " [0 4 0 0 0]\n",
      " [0 0 3 0 0]\n",
      " [0 0 0 4 0]\n",
      " [0 0 1 0 2]]\n"
     ]
    },
    {
     "data": {
      "image/png": "[encoded data removed]",
      "text/plain": [
       "<Figure size 432x288 with 1 Axes>"
      ]
     },
     "metadata": {
      "needs_background": "light"
     },
     "output_type": "display_data"
    },
    {
     "name": "stdout",
     "output_type": "stream",
     "text": [
      "Actuall face  : 5\n",
      "Predicted face: 5\n"
     ]
    }
   ],
   "source": [
    "source = './datasets/extras/facebookfaces-2/crop-inner'\n",
    "img_name = '/5-10.png'\n",
    "\n",
    "X, y = load_dataset(source)\n",
    "pca = PCA()\n",
    "X = pca.fit_transform(X)\n",
    "model, score, cm = classify(X, y)\n",
    "\n",
    "print(\"Recognition rate: %s\" % score)\n",
    "print(\"Confusion Matrix:\")\n",
    "print(cm)\n",
    "\n",
    "img = load_image(source+img_name)\n",
    "plt.imshow(img)\n",
    "plt.show()\n",
    "actual, predict = recognize_image(source+img_name, model, pca)\n",
    "print(\"Actuall face  : %s\" % actual)\n",
    "print(\"Predicted face: %s\" % predict)"
   ]
  }
 ],
 "metadata": {
  "kernelspec": {
   "display_name": "Python 3",
   "language": "python",
   "name": "python3"
  },
  "language_info": {
   "codemirror_mode": {
    "name": "ipython",
    "version": 3
   },
   "file_extension": ".py",
   "mimetype": "text/x-python",
   "name": "python",
   "nbconvert_exporter": "python",
   "pygments_lexer": "ipython3",
   "version": "3.4.3"
  }
 },
 "nbformat": 4,
 "nbformat_minor": 2
}
